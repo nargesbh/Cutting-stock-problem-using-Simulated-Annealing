{
 "cells": [
  {
   "cell_type": "markdown",
   "id": "524c70ac",
   "metadata": {},
   "source": [
    "#### Importing needed libraries."
   ]
  },
  {
   "cell_type": "code",
   "execution_count": 2,
   "id": "6bb6ac71",
   "metadata": {},
   "outputs": [],
   "source": [
    "import random\n",
    "import math\n",
    "import numpy as np\n",
    "import pandas as pd\n",
    "import matplotlib.pyplot as plt"
   ]
  },
  {
   "cell_type": "markdown",
   "id": "52075f2d",
   "metadata": {},
   "source": [
    "#### Reading the file and extracting the maximum length and the order."
   ]
  },
  {
   "cell_type": "code",
   "execution_count": 3,
   "id": "9b870f1f",
   "metadata": {},
   "outputs": [],
   "source": [
    "def input_maker(path):\n",
    "    file = open(path)\n",
    "    input_raw = file.read()\n",
    "    file.close()\n",
    "    \n",
    "    input_mat = input_raw.split('\\n')\n",
    "    stock_length = int(input_mat[0].split(':')[-1].strip())\n",
    "\n",
    "    requests = input_mat[3].split(',')\n",
    "\n",
    "    for i in range(len(requests)):\n",
    "        requests[i] = int(requests[i].strip())\n",
    "\n",
    "    return requests, stock_length"
   ]
  },
  {
   "cell_type": "markdown",
   "id": "7008c6b3",
   "metadata": {},
   "source": [
    "#### Cost function which finds the number of stocks needed for the input array(the order)."
   ]
  },
  {
   "cell_type": "code",
   "execution_count": 4,
   "id": "b148e8e7",
   "metadata": {},
   "outputs": [],
   "source": [
    "def cost(a):\n",
    "    global stock_length\n",
    "    check_len = 0\n",
    "    stock_num = 1\n",
    "    for i in a:\n",
    "        if (check_len + i > stock_length):\n",
    "            stock_num += 1\n",
    "            check_len = i\n",
    "        else:\n",
    "            check_len += i\n",
    "    \n",
    "    return stock_num"
   ]
  },
  {
   "cell_type": "markdown",
   "id": "a70010ee",
   "metadata": {},
   "source": [
    "#### First neighborhood finder which swaps two random indexes."
   ]
  },
  {
   "cell_type": "code",
   "execution_count": 5,
   "id": "f16cdca2",
   "metadata": {},
   "outputs": [],
   "source": [
    "def neighborhood_func(a):\n",
    "    b = random.choice(range(0, len(a)-1))\n",
    "    c = random.choice(range(0, len(a)))\n",
    "    a[b], a[c] = a[c], a[b]\n",
    "    return a"
   ]
  },
  {
   "cell_type": "markdown",
   "id": "03682870",
   "metadata": {},
   "source": [
    "#### Second neighborhood finder that swaps the values of three random indexes ."
   ]
  },
  {
   "cell_type": "code",
   "execution_count": 6,
   "id": "606014a4",
   "metadata": {},
   "outputs": [],
   "source": [
    "def neighborhood_func2(a):\n",
    "    b = random.choice(range(0, len(a)-2))\n",
    "    c = random.choice(range(0, len(a)-1))\n",
    "    d = random.choice(range(0, len(a)))\n",
    "    a[b], a[c], a[d] = a[c], a[d], a[b]\n",
    "    return a"
   ]
  },
  {
   "cell_type": "markdown",
   "id": "2b132baa",
   "metadata": {},
   "source": [
    "#### This function finds if we should use the current neighbor or not and returns true if we should."
   ]
  },
  {
   "cell_type": "code",
   "execution_count": 7,
   "id": "861c0c91",
   "metadata": {},
   "outputs": [],
   "source": [
    "def move_check(dc):\n",
    "    global T\n",
    "    q = random.uniform(0, 1)\n",
    "    \n",
    "    if q <= np.exp(-(dc/T)):\n",
    "        return True\n",
    "        \n",
    "    return False"
   ]
  },
  {
   "cell_type": "markdown",
   "id": "7f45764a",
   "metadata": {},
   "source": [
    "#### Main part of the code"
   ]
  },
  {
   "cell_type": "code",
   "execution_count": 8,
   "id": "f68189d1",
   "metadata": {},
   "outputs": [],
   "source": [
    "T = 10\n",
    "stock_length = 0\n",
    "requests = []\n",
    "def main(path, alpha, t):\n",
    "    global T\n",
    "    global stock_length\n",
    "    global requests\n",
    "    \n",
    "    T = t\n",
    "    \n",
    "    #reading the input\n",
    "    requests, stock_length = input_maker(path) \n",
    "    \n",
    "    #making our first permutation\n",
    "    a = requests[:]\n",
    "    random.shuffle(a)\n",
    " \n",
    "    #using these variables to save our best answers\n",
    "    best_cost = cost(a)\n",
    "    best_chro = a\n",
    "  \n",
    "    all_costs = []\n",
    "    \n",
    "\n",
    "    all_costs.append(best_cost)\n",
    "    Ts = []\n",
    "    Ts.append(T)\n",
    "    iteration_num = 0\n",
    "    check = False\n",
    "    \n",
    "    while(best_cost>234):\n",
    "   \n",
    "        #making our first neighbor\n",
    "        neighbor = neighborhood_func(a)\n",
    "        cost_n = cost(neighbor)\n",
    "        \n",
    "        \n",
    "        #using two different functions and choose the best neighbor we made, as the main neighbor\n",
    "        for i in range(5):\n",
    "            n2 = neighborhood_func(a)\n",
    "            c2 = cost(n2)\n",
    "            if(c2 < cost_n):\n",
    "                cost_n = c2\n",
    "                neighbor = n2[:]\n",
    "                \n",
    "        for i in range(5):\n",
    "            n2 = neighborhood_func2(a)\n",
    "            c2 = cost(n2)\n",
    "            if(c2 < cost_n):\n",
    "                cost_n = c2\n",
    "                neighbor = n2[:]\n",
    "        \n",
    "                  \n",
    "        cost_a = cost(a)\n",
    "        dc = ( cost_n - cost_a )\n",
    "        \n",
    "        \n",
    "        #checking if we should move to that neighbor or not  \n",
    "        if(move_check(dc)):\n",
    "            a = neighbor\n",
    "            all_costs.append(cost_n)\n",
    "  \n",
    "        #updating the best answer\n",
    "        if(best_cost > cost_a):\n",
    "            check = True\n",
    "            best_cost = cost_a\n",
    "            best_chro = a\n",
    "\n",
    "        #changing T in each iteration\n",
    "        T = alpha*T\n",
    "        Ts.append(T)\n",
    "    \n",
    "        iteration_num += 1\n",
    "        \n",
    "        if(check):\n",
    "            print(\"iteration number:\", end=\" \")\n",
    "            print(iteration_num)\n",
    "            print(best_cost)\n",
    "            print(best_chro)\n",
    "            print(\"**************\")\n",
    "            check = False\n",
    " \n",
    "    print(\"best cost:\", end=\" \")\n",
    "    print(best_cost)\n",
    "    print(\"best ans:\", end=\" \")\n",
    "    print(best_chro)\n",
    "\n",
    "    Ts.append(T)\n",
    "    all_costs.append(best_cost)\n",
    "    \n",
    "    return Ts, all_costs, best_chro, iteration_num"
   ]
  },
  {
   "cell_type": "markdown",
   "id": "c813055b",
   "metadata": {},
   "source": [
    "#### First test case using T=30 and alpha=0.88 (this function only uses one neighborhood function)"
   ]
  },
  {
   "cell_type": "code",
   "execution_count": null,
   "id": "bd82ceb7",
   "metadata": {},
   "outputs": [],
   "source": [
    "Ts, all_costs, best_ans, iteration_num = main('input1.stock', 0.88, 30)"
   ]
  },
  {
   "cell_type": "markdown",
   "id": "575cf283",
   "metadata": {},
   "source": [
    "I founded the desired answer in the first try."
   ]
  },
  {
   "cell_type": "code",
   "execution_count": 9,
   "id": "80bdedde",
   "metadata": {},
   "outputs": [
    {
     "name": "stdout",
     "output_type": "stream",
     "text": [
      "best answer: [517, 412, 186, 689, 549, 70, 346, 457, 515, 441, 106, 118, 116, 61, 788, 557, 241, 88, 75, 557, 135, 405, 414, 88, 149, 211, 518, 988, 23, 686, 280, 69, 868, 53, 424, 230, 627, 286, 753, 170, 618, 99, 286, 123, 46, 171, 356, 495, 224, 80, 149, 71, 354, 463, 333, 648, 144, 660, 249, 365, 79, 268, 555, 78, 145, 18, 716, 232, 117, 532, 92, 149, 312, 148, 501, 283, 507, 106, 115, 805, 45, 371, 109, 246, 60, 306, 557, 409, 525, 370, 609, 544, 251, 312, 315, 218, 106, 292, 266, 248, 301, 43, 592, 337, 181, 295, 107, 92, 460, 180, 672, 264, 284, 506, 653, 84, 678, 187, 753, 914, 967, 125, 632, 987, 125, 788, 106, 351, 126, 402, 933, 278, 266, 86, 662, 368, 437, 119, 581, 33]\n",
      "best cost: 55\n",
      "number of iterations: 52078\n"
     ]
    }
   ],
   "source": [
    "print('best answer:', end=\" \")\n",
    "print(best_ans)\n",
    "print('best cost:', end=\" \")\n",
    "print(all_costs[-1])\n",
    "print('number of iterations:', end=\" \")\n",
    "print(iteration_num)"
   ]
  },
  {
   "cell_type": "markdown",
   "id": "6d117b7d",
   "metadata": {},
   "source": [
    "As you can see as T decreases, costs decreases."
   ]
  },
  {
   "cell_type": "code",
   "execution_count": 10,
   "id": "0c3e4764",
   "metadata": {},
   "outputs": [
    {
     "data": {
      "text/plain": [
       "Text(0, 0.5, 'costs')"
      ]
     },
     "execution_count": 10,
     "metadata": {},
     "output_type": "execute_result"
    },
    {
     "data": {
      "image/png": "[encoded data removed]",
      "text/plain": [
       "<Figure size 432x288 with 1 Axes>"
      ]
     },
     "metadata": {
      "needs_background": "light"
     },
     "output_type": "display_data"
    }
   ],
   "source": [
    "plt.plot(Ts, all_costs)\n",
    "plt.xlabel('T')\n",
    "plt.ylabel('costs')"
   ]
  },
  {
   "cell_type": "markdown",
   "id": "0313279f",
   "metadata": {},
   "source": [
    "#### Second test case using the same parameteres (with one neighborhood function)"
   ]
  },
  {
   "cell_type": "code",
   "execution_count": null,
   "id": "7c3d395a",
   "metadata": {},
   "outputs": [],
   "source": [
    "Ts, all_costs, best_ans, iteration_num = main('input2.stock', 0.88, 30)"
   ]
  },
  {
   "cell_type": "markdown",
   "id": "7dbca384",
   "metadata": {},
   "source": [
    "I didn't get my desired answer so I wrote another neighborhood function and used both of them together, which led to the desired answer"
   ]
  },
  {
   "cell_type": "code",
   "execution_count": null,
   "id": "7d646e00",
   "metadata": {},
   "outputs": [],
   "source": [
    "Ts, all_costs, best_ans, iteration_num = main('input2.stock', 0.88, 30)"
   ]
  },
  {
   "cell_type": "code",
   "execution_count": 17,
   "id": "936db94b",
   "metadata": {},
   "outputs": [
    {
     "name": "stdout",
     "output_type": "stream",
     "text": [
      "best answer: [1820, 1520, 2200, 1710, 2140, 2200, 1820, 1520, 2200, 2140, 1380, 1380, 2000, 1930, 2140, 1520, 2000, 1520, 2050, 1380, 2200, 1710, 1820, 1880, 1820, 1380, 2140, 2000, 2140, 1820, 1520, 2200, 1820, 2140, 2200, 1380, 1820, 1820, 2200, 1520, 1380, 1380, 2200, 1520, 1380, 1710, 1520, 1380, 2200, 2200, 1380, 1930, 1820, 1380, 2200, 1930, 1380, 2050, 2140, 1380, 1820, 1380, 1380, 2140, 1710, 2140, 1380, 2140, 2140, 1520, 1520, 2140, 2140, 1820, 1380, 2140, 1380, 1710, 1520, 2200, 2140, 1380, 2200, 2200, 1520, 2200, 1520, 1380, 1520, 2200, 1820, 2050, 1710, 1710, 2140, 1710, 2140, 2200, 1380, 2200, 1380, 1930, 2140, 1820, 2200, 1380, 1380, 1820, 1930, 1380, 1820, 2200, 1930, 1380, 1930, 1820, 1820, 1520, 1380, 1820, 1710, 2140, 1930, 1380, 1520, 1380, 2200, 1820, 1930, 2200, 1380, 1520, 1520, 2140, 1380, 1380, 1380, 2050, 1820, 1380, 1930, 1880, 1380, 2100, 1520, 1520, 1380, 1930, 1380, 1930, 2200, 1520, 1710, 1380, 1930, 2140, 2200, 1820, 1380, 1710, 1820, 2140, 1930, 1520, 1520, 1380, 1880, 1820, 1520, 1520, 1380, 1820, 1380, 1820, 2200, 1380, 2100, 1520, 1930, 1930, 1380, 2200, 1380, 1520, 1380, 1380, 2140, 1930, 1380, 1820, 2140, 1820, 2000, 2140, 2140, 2200, 1880, 1820, 1710, 1520, 1380, 1820, 1380, 1820, 2200, 1380, 2140, 2140, 1380, 2140, 1380, 1880, 1520, 1380, 2100, 1520, 1380, 1930, 1820]\n",
      "best cost: 79\n",
      "number of iterations: 143672\n"
     ]
    }
   ],
   "source": [
    "print('best answer:', end=\" \")\n",
    "print(best_ans)\n",
    "print('best cost:', end=\" \")\n",
    "print(all_costs[-1])\n",
    "print('number of iterations:', end=\" \")\n",
    "print(iteration_num)"
   ]
  },
  {
   "cell_type": "code",
   "execution_count": 18,
   "id": "1de93661",
   "metadata": {},
   "outputs": [
    {
     "data": {
      "text/plain": [
       "Text(0, 0.5, 'costs')"
      ]
     },
     "execution_count": 18,
     "metadata": {},
     "output_type": "execute_result"
    },
    {
     "data": {
      "image/png": "[encoded data removed]",
      "text/plain": [
       "<Figure size 432x288 with 1 Axes>"
      ]
     },
     "metadata": {
      "needs_background": "light"
     },
     "output_type": "display_data"
    }
   ],
   "source": [
    "plt.plot(Ts, all_costs)\n",
    "plt.xlabel('T')\n",
    "plt.ylabel('costs')"
   ]
  },
  {
   "cell_type": "markdown",
   "id": "de2770e3",
   "metadata": {},
   "source": [
    "#### third test case using two neighborhood functions and T=30 and alpha=0.88."
   ]
  },
  {
   "cell_type": "code",
   "execution_count": null,
   "id": "df345756",
   "metadata": {},
   "outputs": [],
   "source": [
    "Ts, all_costs, best_ans, iteration_num = main('input3.stock', 0.88, 30)"
   ]
  },
  {
   "cell_type": "markdown",
   "id": "c7b5ec17",
   "metadata": {},
   "source": [
    "I got the desired answer in my first try."
   ]
  },
  {
   "cell_type": "code",
   "execution_count": 21,
   "id": "26785559",
   "metadata": {},
   "outputs": [
    {
     "name": "stdout",
     "output_type": "stream",
     "text": [
      "best answer: [34, 7, 8, 3, 7, 2, 1, 399, 4, 27, 411, 1, 3, 10, 5, 8, 9, 134, 6, 6, 4, 3, 2, 5, 115, 4, 34, 153, 150, 3, 245, 3, 5, 24, 1, 5, 433, 13, 3, 21, 1, 1, 5, 87, 189, 88, 234, 4, 2, 299, 50, 1, 21, 12, 110, 4, 7, 10, 4, 6, 16, 7, 7, 8, 18, 6, 7, 86, 243, 37, 264, 7, 66, 3, 86, 343, 8, 9, 29, 479, 15, 13, 3, 9, 9, 12, 3, 15, 1, 2, 5, 2, 5, 153, 205, 7, 2, 8, 134, 5, 405, 4, 12, 1, 7, 1, 8, 156, 6, 1, 6, 89, 18, 4, 7, 14, 2, 4, 76, 158, 23, 7, 21, 1, 11, 45, 228, 2, 2, 5, 280, 5, 2, 43, 3, 87, 38, 7, 9, 1, 7, 178, 9, 147, 2, 4, 20, 76, 10, 1, 19, 67, 7, 9, 14, 6, 66, 360, 1, 186, 3, 13, 78, 13, 6, 8, 2, 154, 85, 4, 1, 1, 7, 4, 1, 124, 6, 11, 5, 5, 159, 166, 6, 2, 1, 26, 239, 16, 15, 102, 16, 2, 11, 4, 1, 7, 43, 3, 7, 6, 275, 5, 6, 3, 1, 4, 133, 17, 1, 6, 12, 1, 170, 4, 8, 1, 14, 8, 3, 6, 4, 364, 350, 52, 321, 3, 3, 209, 12, 9, 3, 263, 314, 1, 170, 7, 161, 234, 288, 8, 10, 281, 6, 4, 1, 5, 13, 13, 11, 314, 178, 1, 74, 2, 5, 1, 4, 18, 2, 225, 245, 169, 3, 7, 2, 319, 4, 260, 1, 3, 6, 9, 7, 1, 1, 5, 165, 2, 315, 16, 102, 4, 1, 10, 5, 16, 1, 6, 9, 6, 2, 12, 4, 13, 5, 4, 6, 12, 2, 298, 5, 10, 8, 1, 7, 386, 138, 2, 11, 10, 4, 3, 1, 5, 5, 1, 170, 1, 3, 174, 4, 91, 14, 3, 167, 275, 112, 17, 16, 10, 3, 251, 4, 4, 7, 7, 1, 13, 5, 49, 5, 130, 14, 2, 250, 8, 39, 109, 25, 18, 4, 14, 5, 2, 75, 11, 1, 2, 11, 163, 2, 108, 5, 6, 10, 237, 3, 6, 290, 106, 5, 9, 152, 12, 12, 4, 9, 188, 133, 14, 1, 8, 243, 271, 8, 4, 1, 9, 2, 1, 6, 23, 40, 3, 3, 6, 3, 2, 10, 470, 2, 14, 14, 265, 2, 17, 5, 274, 124, 2, 4, 1, 7, 1, 313, 3, 4, 116, 2, 8, 8, 1, 3, 8, 41, 4, 3, 359, 2, 9, 2, 5, 134, 8, 6, 9, 2, 2, 2, 23, 18, 191, 7, 369, 311, 16, 54, 5, 8, 3, 2, 4, 2, 2, 245, 1, 5, 5, 3, 26, 151, 1, 6, 11, 12, 24, 2, 1, 15, 10, 17, 9, 4, 8, 68, 2, 419, 4, 15, 1, 152, 1, 2, 5, 19, 126, 3, 9, 318, 26, 6, 6, 6, 3, 271, 23, 6, 8, 209, 2, 3, 21, 9, 4, 98, 3, 5, 1, 1, 162, 10, 6, 224, 2, 38, 98, 9, 3, 9, 1, 79, 4, 6, 1, 6, 21, 180, 2, 25, 12, 5, 8, 1, 134, 14, 2, 1, 277, 9, 4, 2, 1, 2, 6, 2, 11, 28, 2, 9, 1, 159, 124, 59, 3, 213, 331, 9, 7, 3, 68, 41, 10, 2, 361, 1, 1, 3, 144, 7, 24, 5, 19, 7, 14, 10, 2, 8, 27, 11, 10, 11, 9, 86, 7, 3, 2, 12, 204, 263, 15, 12, 7, 1, 18, 3, 138, 7, 13, 6, 116, 18, 5, 1, 36, 169, 13, 12, 4, 1, 4, 92, 3, 2, 224, 5, 2, 3, 167, 1, 16, 3, 2, 3, 6, 167, 198, 197, 9, 255, 184, 4, 5, 9, 225, 9, 2, 1, 1, 244, 3, 97, 9, 12, 24, 172, 11, 7, 8, 187, 6, 92, 4, 9, 4, 128, 12, 3, 125, 430, 2, 2, 314, 5, 17, 3, 21, 6, 160, 87, 1, 240, 199, 4, 8, 8, 196, 335, 1, 10, 7, 5, 3, 90, 9, 8, 9, 14, 3, 92, 227, 9, 5, 9, 4, 3, 1, 93, 1, 8, 7, 7, 6, 3, 17, 1, 11, 152, 3, 1, 1, 403, 49, 147, 7, 2, 5, 15, 1, 204, 14, 3, 2, 131, 17, 72, 3, 111, 144, 21, 8, 6, 16, 96, 1, 135, 7, 5, 458, 214, 314, 2, 264, 2, 9, 11, 282, 1, 3, 1, 99, 6, 2, 2, 7, 5, 2, 11, 152, 9, 19, 5, 14, 27, 3, 34, 17, 6, 49, 11, 14, 1, 10, 7, 21, 2, 7, 7, 2, 13, 255, 2, 22, 139, 6, 18, 11, 7, 6, 1, 1, 1, 2, 120, 7, 2, 9, 1, 8, 8, 108, 2, 229, 9, 15, 6, 9, 3, 3, 8, 92, 11, 9, 243, 61, 132, 6, 152, 3, 5, 1, 32, 4, 7, 5, 111, 421, 35, 313, 8, 10, 5, 1, 18, 7, 138, 3, 4, 11, 147, 16, 118, 183, 6, 13, 8, 201, 339, 17, 4, 24, 14, 174, 19, 279, 2, 5, 11, 13, 1, 157]\n",
      "best cost: 114\n",
      "number of iterations: 3\n"
     ]
    }
   ],
   "source": [
    "print('best answer:', end=\" \")\n",
    "print(best_ans)\n",
    "print('best cost:', end=\" \")\n",
    "print(all_costs[-1])\n",
    "print('number of iterations:', end=\" \")\n",
    "print(iteration_num)"
   ]
  },
  {
   "cell_type": "markdown",
   "id": "6bd32f41",
   "metadata": {},
   "source": [
    "As you can see the plot is so straight forward :)"
   ]
  },
  {
   "cell_type": "code",
   "execution_count": 22,
   "id": "38e11b2d",
   "metadata": {},
   "outputs": [
    {
     "data": {
      "text/plain": [
       "Text(0, 0.5, 'costs')"
      ]
     },
     "execution_count": 22,
     "metadata": {},
     "output_type": "execute_result"
    },
    {
     "data": {
      "image/png": "[encoded data removed]",
      "text/plain": [
       "<Figure size 432x288 with 1 Axes>"
      ]
     },
     "metadata": {
      "needs_background": "light"
     },
     "output_type": "display_data"
    }
   ],
   "source": [
    "plt.plot(Ts, all_costs)\n",
    "plt.xlabel('T')\n",
    "plt.ylabel('costs')"
   ]
  },
  {
   "cell_type": "markdown",
   "id": "181a51f8",
   "metadata": {},
   "source": [
    "#### fourth test case using the same parameters"
   ]
  },
  {
   "cell_type": "code",
   "execution_count": null,
   "id": "fd512dad",
   "metadata": {},
   "outputs": [],
   "source": [
    "Ts, all_costs, best_ans, iteration_num = main('input4.stock', 0.88, 30)"
   ]
  },
  {
   "cell_type": "markdown",
   "id": "45d3aa20",
   "metadata": {},
   "source": [
    "These parameters are so good that i got the answer to all these test cases with them."
   ]
  },
  {
   "cell_type": "code",
   "execution_count": 25,
   "id": "736c30cb",
   "metadata": {},
   "outputs": [
    {
     "name": "stdout",
     "output_type": "stream",
     "text": [
      "best answer: [19, 13, 16, 13, 18, 1, 24, 16, 21, 5, 5, 20, 4, 10, 38, 7, 8, 18, 6, 91, 2, 54, 13, 56, 5, 5, 62, 16, 16, 15, 7, 8, 6, 9, 27, 21, 34, 10, 47, 3, 35, 20, 5, 25, 2, 3, 39, 46, 24, 15, 59, 7, 57, 62, 6, 69, 1, 1, 17, 16, 1, 17, 1, 3, 10, 15, 18, 14, 22, 20, 38, 4, 7, 12, 43, 10, 8, 24, 16, 8, 13, 33, 6, 5, 65, 33, 39, 21, 16, 14, 4, 3, 5, 2, 21, 9, 2, 24, 32, 46, 67, 25, 14, 19, 8, 1, 14, 1, 7, 14, 17, 59, 2, 9, 5, 34, 4, 11, 14, 29, 16, 21, 9, 47, 33, 21, 18, 5, 11, 84, 3, 54, 51, 5, 1, 3, 32, 30, 40, 16, 1, 12, 32, 14, 92, 33, 27, 1, 26, 24, 5, 18, 5, 22, 1, 28, 47, 43, 52, 24, 25, 22, 4, 73, 27, 73, 1, 34, 25, 40, 3, 27, 5, 37, 29, 14, 21, 50, 1, 12, 33, 32, 13, 2, 7, 15, 5, 15, 9, 10, 6, 10, 5, 55, 50, 6, 14, 24, 18, 7, 26, 12, 11, 26, 87, 3, 44, 16, 6, 6, 2, 16, 47, 8, 15, 44, 10, 3, 4, 1, 88, 4, 17, 36, 8, 16, 34, 44, 2, 54, 3, 74, 4, 37, 3, 2, 28, 12, 6, 43, 14, 21, 55, 17, 1, 51, 9, 56, 16, 23, 26, 7, 7, 18, 7, 12, 37, 81, 6, 5, 13, 6, 57, 6, 21, 4, 3, 11, 1, 8, 20, 80, 58, 59, 34, 91, 18, 9, 7, 14, 18, 7, 27, 21, 74, 20, 12, 51, 4, 13, 4, 92, 31, 21, 6, 2, 4, 47, 31, 37, 13, 4, 8, 19, 63, 15, 5, 18, 9, 12, 15, 3, 75, 8, 3, 8, 6, 16, 2, 19, 4, 9, 20, 5, 6, 2, 68, 30, 43, 3, 22, 17, 6, 68, 32, 69, 45, 26, 10, 58, 18, 67, 40, 36, 2, 16, 11, 2, 12, 20, 18, 10, 50, 44, 59, 7, 18, 11, 30, 3, 35, 9, 53, 25, 12, 23, 73, 26, 52, 5, 5, 1, 61, 4, 54, 60, 37, 10, 16, 3, 3, 13, 4, 19, 3, 9, 9, 10, 23, 81, 9, 2, 65, 34, 20, 29, 56, 21, 11, 6, 61, 1, 3, 20, 6, 1, 11, 11, 10, 7, 2, 4, 27, 44, 8, 38, 16, 31, 23, 18, 1, 2, 35, 17, 5, 38, 2, 16, 21, 44, 1, 43, 2, 34, 2, 1, 15, 13, 65, 5, 13, 5, 22, 4, 33, 67, 15, 1, 11, 4, 8, 25, 6, 32, 7, 29, 5, 3, 52, 20, 3, 4, 6, 12, 54, 9, 9, 3, 12, 21, 54, 2, 1, 7, 11, 43, 6, 27, 24, 2, 39, 17, 3, 20, 7, 7, 47, 6, 8, 4, 10, 47, 36, 78, 3, 52, 20, 1, 36, 2, 46, 22, 52, 32, 22, 6, 28, 17, 2, 44, 35, 99, 27, 21, 37, 13, 16, 89, 21, 8, 47, 12, 6, 42, 7, 48, 3, 8, 37, 66, 1, 5, 12, 10, 51, 26, 5, 10, 68, 15, 93, 7, 8, 26, 5, 9, 6, 72, 22, 71, 4, 13, 23, 21, 7, 33, 8, 44, 1, 4, 5, 37, 21, 20, 5, 34, 6, 5, 12, 12, 47, 4, 18, 3, 11, 79, 1, 59, 60, 7, 3, 15, 98, 4, 1, 95, 30, 23, 36, 48, 34, 12, 4, 2, 13, 9, 59, 26, 30, 28, 5, 6, 71, 3, 5, 47, 28, 14, 14, 17, 37, 9, 37, 15, 48, 10, 32, 3, 10, 9, 22, 11, 10, 8, 58, 13, 10, 46, 1, 27, 6, 23, 32, 8, 1, 45, 5, 31, 37, 5, 5, 13, 3, 5, 7, 3, 31, 19, 15, 28, 23, 8, 2, 1, 5, 8, 51, 26, 5, 22, 5, 19, 21, 50, 13, 34, 51, 45, 18, 3, 70, 19, 79, 19, 62, 13, 1, 82, 2, 66, 29, 31, 4, 8, 59, 14, 6, 15, 5, 3, 38, 20, 4, 6, 65, 2, 4, 10, 2, 16, 51, 6, 24, 2, 26, 2, 5, 46, 1, 6, 3, 43, 27, 2, 8, 11, 12, 9, 3, 10, 11, 27, 20, 51, 23, 4, 10, 4, 71, 29, 58, 6, 5, 61, 7, 9, 20, 11, 73, 79, 19, 41, 47, 9, 2, 74, 4, 89, 23, 5, 35, 30, 34, 26, 3, 4, 13, 6, 8, 5, 32, 10, 53, 6, 24, 67, 35, 9, 28, 39, 4, 15, 16, 27, 25, 22, 4, 12, 6, 21, 13, 3, 6, 13, 12, 2, 18, 24, 5, 5, 4, 5, 30, 18, 89, 56, 2, 72, 31, 3, 61, 7, 19, 6, 7, 46, 25, 18, 23, 90, 2, 30, 1, 24, 66, 20, 12, 17, 15, 2, 21, 31, 4, 6, 38, 8, 22, 87, 16, 3, 25, 6, 20, 45, 4, 33, 30, 7, 18, 13, 14, 4, 33, 2, 15, 4, 2, 36, 4, 14, 7, 12, 38, 24, 5, 4, 14, 46, 50, 36, 56, 7, 8, 2, 22, 13, 5, 11, 3, 9, 41, 6, 19, 14, 4, 10, 31, 18, 13, 35, 8, 7, 27, 92, 17, 15, 3, 3, 40, 21, 38, 33, 30, 24, 20, 7, 33, 20, 5, 2]\n",
      "best cost: 234\n",
      "number of iterations: 16265\n"
     ]
    }
   ],
   "source": [
    "print('best answer:', end=\" \")\n",
    "print(best_ans)\n",
    "print('best cost:', end=\" \")\n",
    "print(all_costs[-1])\n",
    "print('number of iterations:', end=\" \")\n",
    "print(iteration_num)"
   ]
  },
  {
   "cell_type": "code",
   "execution_count": 26,
   "id": "813c7ae0",
   "metadata": {},
   "outputs": [
    {
     "data": {
      "text/plain": [
       "Text(0, 0.5, 'costs')"
      ]
     },
     "execution_count": 26,
     "metadata": {},
     "output_type": "execute_result"
    },
    {
     "data": {
      "image/png": "[encoded data removed]",
      "text/plain": [
       "<Figure size 432x288 with 1 Axes>"
      ]
     },
     "metadata": {
      "needs_background": "light"
     },
     "output_type": "display_data"
    }
   ],
   "source": [
    "plt.plot(Ts, all_costs)\n",
    "plt.xlabel('T')\n",
    "plt.ylabel('costs')"
   ]
  },
  {
   "cell_type": "markdown",
   "id": "34b4d36c",
   "metadata": {},
   "source": [
    "#### T effect\n",
    "I found the answer to all test cases with those parameters but just to see the effect of T i reran the code with different Ts and here are my answers:"
   ]
  },
  {
   "cell_type": "code",
   "execution_count": null,
   "id": "628190e5",
   "metadata": {},
   "outputs": [],
   "source": [
    "Ts, all_costs, best_ans, iteration_num = main('input4.stock', 0.88, 40)"
   ]
  },
  {
   "cell_type": "code",
   "execution_count": 12,
   "id": "0f9a3457",
   "metadata": {},
   "outputs": [
    {
     "name": "stdout",
     "output_type": "stream",
     "text": [
      "best cost: 234\n",
      "number of iterations: 55270\n"
     ]
    }
   ],
   "source": [
    "# print('best answer:', end=\" \")\n",
    "# print(best_ans)\n",
    "print('best cost:', end=\" \")\n",
    "print(all_costs[-1])\n",
    "print('number of iterations:', end=\" \")\n",
    "print(iteration_num)"
   ]
  },
  {
   "cell_type": "markdown",
   "id": "7bdf5772",
   "metadata": {},
   "source": [
    "With T=30 i got the cost of 234 within 16265 iterations but with T=40 the number of iterations is 55270 which means that in higher degrees, due to choosing neighbors with worse costs, it takes more iterations to get to the desired answer."
   ]
  },
  {
   "cell_type": "code",
   "execution_count": 13,
   "id": "c8f9a169",
   "metadata": {},
   "outputs": [
    {
     "data": {
      "text/plain": [
       "Text(0, 0.5, 'costs')"
      ]
     },
     "execution_count": 13,
     "metadata": {},
     "output_type": "execute_result"
    },
    {
     "data": {
      "image/png": "[encoded data removed]",
      "text/plain": [
       "<Figure size 432x288 with 1 Axes>"
      ]
     },
     "metadata": {
      "needs_background": "light"
     },
     "output_type": "display_data"
    }
   ],
   "source": [
    "plt.plot(Ts, all_costs)\n",
    "plt.xlabel('T')\n",
    "plt.ylabel('costs')"
   ]
  },
  {
   "cell_type": "markdown",
   "id": "e5f69cac",
   "metadata": {},
   "source": [
    "Now let's try with T=20:"
   ]
  },
  {
   "cell_type": "code",
   "execution_count": null,
   "id": "b2d87e86",
   "metadata": {},
   "outputs": [],
   "source": [
    "Ts, all_costs, best_ans, iteration_num = main('input4.stock', 0.88, 20)"
   ]
  },
  {
   "cell_type": "code",
   "execution_count": 16,
   "id": "2fe04b01",
   "metadata": {},
   "outputs": [
    {
     "name": "stdout",
     "output_type": "stream",
     "text": [
      "best cost: 233\n",
      "number of iterations: 96918\n"
     ]
    }
   ],
   "source": [
    "# print('best answer:', end=\" \")\n",
    "# print(best_ans)\n",
    "print('best cost:', end=\" \")\n",
    "print(all_costs[-1])\n",
    "print('number of iterations:', end=\" \")\n",
    "print(iteration_num)"
   ]
  },
  {
   "cell_type": "markdown",
   "id": "13e46512",
   "metadata": {},
   "source": [
    "Using T=20 I got the desired answer in 96918 iterations which is the worst of all.\n",
    "This is because in each iteration i use the localy-best point and maybe I got stock in a local point and it takes so many iterations to come out of it."
   ]
  },
  {
   "cell_type": "code",
   "execution_count": 17,
   "id": "a5dec0d6",
   "metadata": {},
   "outputs": [
    {
     "data": {
      "text/plain": [
       "Text(0, 0.5, 'costs')"
      ]
     },
     "execution_count": 17,
     "metadata": {},
     "output_type": "execute_result"
    },
    {
     "data": {
      "image/png": "[encoded data removed]",
      "text/plain": [
       "<Figure size 432x288 with 1 Axes>"
      ]
     },
     "metadata": {
      "needs_background": "light"
     },
     "output_type": "display_data"
    }
   ],
   "source": [
    "plt.plot(Ts, all_costs)\n",
    "plt.xlabel('T')\n",
    "plt.ylabel('costs')"
   ]
  },
  {
   "cell_type": "markdown",
   "id": "bb8cdd8e",
   "metadata": {},
   "source": [
    "#### Cheking the effect of Ts function\n",
    "Here I used a linear function for changing T."
   ]
  },
  {
   "cell_type": "code",
   "execution_count": 10,
   "id": "6db48fc2",
   "metadata": {},
   "outputs": [],
   "source": [
    "T = 10\n",
    "stock_length = 0\n",
    "requests = []\n",
    "# alpha = 0.9\n",
    "def main2(path, alpha, t):\n",
    "    global T\n",
    "    global stock_length\n",
    "    global requests\n",
    "    \n",
    "    T = t\n",
    "    requests, stock_length = input_maker(path)\n",
    "    #     requests = [13, 16, 24, 16, 11, 14]\n",
    "    #     stock_lenght = 30   \n",
    "    a = requests[:]\n",
    "    random.shuffle(a)\n",
    " \n",
    "    best_cost = cost(a)\n",
    "    best_chro = a\n",
    "  \n",
    "    all_costs = []\n",
    "    \n",
    "\n",
    "    all_costs.append(best_cost)\n",
    "    Ts = []\n",
    "    Ts.append(T)\n",
    "    iteration_num = 0\n",
    "    check = False\n",
    "    while(best_cost>234):\n",
    "   \n",
    "        neighbor = neighborhood_func(a)\n",
    "        cost_n = cost(neighbor)\n",
    "    \n",
    "        for i in range(5):\n",
    "            n2 = neighborhood_func(a)\n",
    "            c2 = cost(n2)\n",
    "            if(c2 < cost_n):\n",
    "                cost_n = c2\n",
    "                neighbor = n2[:]\n",
    "                \n",
    "        for i in range(5):\n",
    "            n2 = neighborhood_func2(a)\n",
    "            c2 = cost(n2)\n",
    "            if(c2 < cost_n):\n",
    "                cost_n = c2\n",
    "                neighbor = n2[:]\n",
    "        \n",
    "                  \n",
    "        cost_a = cost(a)\n",
    "        dc = ( cost_n - cost_a )\n",
    "            \n",
    "        if(move_check(dc)):\n",
    "            a = neighbor\n",
    "    #             all_neighbors.append(a)\n",
    "            all_costs.append(cost_n)\n",
    "  \n",
    "        if(best_cost > cost_a):\n",
    "            check = True\n",
    "            best_cost = cost_a\n",
    "            best_chro = a\n",
    "\n",
    "#         T = alpha*T\n",
    "        T-=0.002\n",
    "        T = max(0.002, T)\n",
    "        Ts.append(T)\n",
    "    \n",
    "        iteration_num += 1\n",
    "        \n",
    "        if(check):\n",
    "            print(\"iteration number:\", end=\" \")\n",
    "            print(iteration_num)\n",
    "            print(best_cost)\n",
    "            print(best_chro)\n",
    "            print(\"**************\")\n",
    "            check = False\n",
    " \n",
    "    print(\"best cost:\", end=\" \")\n",
    "    print(best_cost)\n",
    "    print(\"best ans:\", end=\" \")\n",
    "    print(best_chro)\n",
    "\n",
    "    Ts.append(T)\n",
    "    all_costs.append(best_cost)\n",
    "    \n",
    "    return Ts, all_costs, best_chro, iteration_num"
   ]
  },
  {
   "cell_type": "code",
   "execution_count": null,
   "id": "4fca00b8",
   "metadata": {},
   "outputs": [],
   "source": [
    "Ts, all_costs, best_ans, iteration_num = main2('input4.stock', 0.88, 30)"
   ]
  },
  {
   "cell_type": "code",
   "execution_count": 12,
   "id": "ace04155",
   "metadata": {},
   "outputs": [
    {
     "name": "stdout",
     "output_type": "stream",
     "text": [
      "best cost: 234\n",
      "number of iterations: 92348\n"
     ]
    }
   ],
   "source": [
    "# print('best answer:', end=\" \")\n",
    "# print(best_ans)\n",
    "print('best cost:', end=\" \")\n",
    "print(all_costs[-1])\n",
    "print('number of iterations:', end=\" \")\n",
    "print(iteration_num)"
   ]
  },
  {
   "cell_type": "markdown",
   "id": "f29fbf21",
   "metadata": {},
   "source": [
    "I got the answer within 92348 iterations using a linear function for T.\n",
    "I conclude that Using the right parameters with Nonlinear function for T can find the answer in significantly less number of iterations."
   ]
  },
  {
   "cell_type": "code",
   "execution_count": 13,
   "id": "f0f1bab2",
   "metadata": {},
   "outputs": [
    {
     "data": {
      "text/plain": [
       "Text(0, 0.5, 'costs')"
      ]
     },
     "execution_count": 13,
     "metadata": {},
     "output_type": "execute_result"
    },
    {
     "data": {
      "image/png": "[encoded data removed]",
      "text/plain": [
       "<Figure size 432x288 with 1 Axes>"
      ]
     },
     "metadata": {
      "needs_background": "light"
     },
     "output_type": "display_data"
    }
   ],
   "source": [
    "plt.plot(Ts, all_costs)\n",
    "plt.xlabel('T')\n",
    "plt.ylabel('costs')"
   ]
  },
  {
   "cell_type": "markdown",
   "id": "e5b42d31",
   "metadata": {},
   "source": [
    "It was easy to predict that the plot of T would be so noisy(from the number of iterations)."
   ]
  },
  {
   "cell_type": "markdown",
   "id": "e9b2bec8",
   "metadata": {},
   "source": [
    "##### I also tried the 5th test case with many different parameters. I even coded 4 different neighborhood functions and also tried an exponential function for T. But the best cost I recieved was 4716 which wasn not enough, so I didn't include that part of my code in this homework:))."
   ]
  }
 ],
 "metadata": {
  "kernelspec": {
   "display_name": "Python 3 (ipykernel)",
   "language": "python",
   "name": "python3"
  },
  "language_info": {
   "codemirror_mode": {
    "name": "ipython",
    "version": 3
   },
   "file_extension": ".py",
   "mimetype": "text/x-python",
   "name": "python",
   "nbconvert_exporter": "python",
   "pygments_lexer": "ipython3",
   "version": "3.8.10"
  }
 },
 "nbformat": 4,
 "nbformat_minor": 5
}
